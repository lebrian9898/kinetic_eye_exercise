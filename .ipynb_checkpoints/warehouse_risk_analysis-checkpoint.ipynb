{
 "cells": [
  {
   "cell_type": "markdown",
   "metadata": {},
   "source": [
    "# Kinetic Eye"
   ]
  },
  {
   "cell_type": "markdown",
   "metadata": {},
   "source": [
    "# Warehouse Risk Model Analysis"
   ]
  },
  {
   "cell_type": "markdown",
   "metadata": {},
   "source": [
    "## Problem Prompt: "
   ]
  },
  {
   "cell_type": "markdown",
   "metadata": {},
   "source": [
    "We are looking to build a warehouse risk model, but we don’t have a lot of accidents or injuries to refer to yet. One thought is that distance travelled by workers and vehicles is a potential predictor of risk. Let’s assume that our safety events serve as a good proxy for safety outcomes. How well does distance travelled predict risk? What would you have to do to know for sure?"
   ]
  },
  {
   "cell_type": "markdown",
   "metadata": {},
   "source": [
    "### Clarification:"
   ]
  },
  {
   "cell_type": "markdown",
   "metadata": {},
   "source": [
    "How well does the odometry data predict safety outcomes? The events data is intended to be the \"outcomes.\" Consider using date/time column as a merging column."
   ]
  },
  {
   "cell_type": "markdown",
   "metadata": {},
   "source": [
    "In the problem, risk is measured at the operation level, rather than at the driver level. Consider looking at the hourly or daily level of granularity to measure the number of safety events."
   ]
  },
  {
   "cell_type": "markdown",
   "metadata": {},
   "source": [
    "This notebook will explore and analyze distance traveled to understand how the feature will perform in predicting risk. This notebook will also show the data cleaning, manipulation and merging process, as well as model results, conclusion, challenges, and next steps."
   ]
  },
  {
   "cell_type": "markdown",
   "metadata": {},
   "source": [
    "### Imports"
   ]
  },
  {
   "cell_type": "code",
   "execution_count": 1,
   "metadata": {},
   "outputs": [],
   "source": [
    "import numpy as np\n",
    "import pandas as pd\n",
    "import seaborn as sns\n",
    "import matplotlib.pyplot as plt\n",
    "from datetime import datetime, date\n",
    "from scipy import stats\n",
    "from sklearn.linear_model import LinearRegression\n",
    "from sklearn.model_selection import train_test_split\n",
    "from sklearn import metrics"
   ]
  },
  {
   "cell_type": "markdown",
   "metadata": {},
   "source": [
    "### Importing csv data files as pandas dataframe"
   ]
  },
  {
   "cell_type": "code",
   "execution_count": 2,
   "metadata": {},
   "outputs": [],
   "source": [
    "odometry = pd.read_csv(\"odometry.csv\")\n",
    "events = pd.read_csv(\"events.csv\")"
   ]
  },
  {
   "cell_type": "code",
   "execution_count": 3,
   "metadata": {},
   "outputs": [
    {
     "data": {
      "text/html": [
       "<div>\n",
       "<style scoped>\n",
       "    .dataframe tbody tr th:only-of-type {\n",
       "        vertical-align: middle;\n",
       "    }\n",
       "\n",
       "    .dataframe tbody tr th {\n",
       "        vertical-align: top;\n",
       "    }\n",
       "\n",
       "    .dataframe thead th {\n",
       "        text-align: right;\n",
       "    }\n",
       "</style>\n",
       "<table border=\"1\" class=\"dataframe\">\n",
       "  <thead>\n",
       "    <tr style=\"text-align: right;\">\n",
       "      <th></th>\n",
       "      <th>_id</th>\n",
       "      <th>camera_id</th>\n",
       "      <th>video_name</th>\n",
       "      <th>class_name</th>\n",
       "      <th>traveled_distance</th>\n",
       "      <th>start_timestamp</th>\n",
       "      <th>end_timestamp</th>\n",
       "      <th>local_start_timestamp</th>\n",
       "    </tr>\n",
       "  </thead>\n",
       "  <tbody>\n",
       "    <tr>\n",
       "      <th>0</th>\n",
       "      <td>ObjectId(\"5ecb9dc250efdb0008054f36\")</td>\n",
       "      <td>5</td>\n",
       "      <td>040234-040603.mp4</td>\n",
       "      <td>Forklift</td>\n",
       "      <td>9.880006</td>\n",
       "      <td>2020-05-25T09:05:10.000Z</td>\n",
       "      <td>2020-05-25T09:19:54.000Z</td>\n",
       "      <td>2020-05-25T04:05:10.000Z</td>\n",
       "    </tr>\n",
       "    <tr>\n",
       "      <th>1</th>\n",
       "      <td>ObjectId(\"5ecb9dc250efdb0008054f37\")</td>\n",
       "      <td>5</td>\n",
       "      <td>040234-040603.mp4</td>\n",
       "      <td>Person</td>\n",
       "      <td>6.088650</td>\n",
       "      <td>2020-05-25T09:06:22.000Z</td>\n",
       "      <td>2020-05-25T09:19:14.000Z</td>\n",
       "      <td>2020-05-25T04:06:22.000Z</td>\n",
       "    </tr>\n",
       "    <tr>\n",
       "      <th>2</th>\n",
       "      <td>ObjectId(\"5ecb9dc250efdb0008054f38\")</td>\n",
       "      <td>5</td>\n",
       "      <td>040234-040603.mp4</td>\n",
       "      <td>Person</td>\n",
       "      <td>18.249779</td>\n",
       "      <td>2020-05-25T09:36:46.000Z</td>\n",
       "      <td>2020-05-25T09:50:58.000Z</td>\n",
       "      <td>2020-05-25T04:36:46.000Z</td>\n",
       "    </tr>\n",
       "    <tr>\n",
       "      <th>3</th>\n",
       "      <td>ObjectId(\"5ecb9dc250efdb0008054f39\")</td>\n",
       "      <td>5</td>\n",
       "      <td>040234-040603.mp4</td>\n",
       "      <td>Person</td>\n",
       "      <td>8.291737</td>\n",
       "      <td>2020-05-25T09:59:38.000Z</td>\n",
       "      <td>2020-05-25T10:05:42.000Z</td>\n",
       "      <td>2020-05-25T04:59:38.000Z</td>\n",
       "    </tr>\n",
       "    <tr>\n",
       "      <th>4</th>\n",
       "      <td>ObjectId(\"5ecb9dc250efdb0008054f3a\")</td>\n",
       "      <td>5</td>\n",
       "      <td>040234-040603.mp4</td>\n",
       "      <td>Forklift</td>\n",
       "      <td>8.895892</td>\n",
       "      <td>2020-05-25T10:02:06.000Z</td>\n",
       "      <td>2020-05-25T10:05:22.000Z</td>\n",
       "      <td>2020-05-25T05:02:06.000Z</td>\n",
       "    </tr>\n",
       "  </tbody>\n",
       "</table>\n",
       "</div>"
      ],
      "text/plain": [
       "                                    _id  camera_id         video_name  \\\n",
       "0  ObjectId(\"5ecb9dc250efdb0008054f36\")          5  040234-040603.mp4   \n",
       "1  ObjectId(\"5ecb9dc250efdb0008054f37\")          5  040234-040603.mp4   \n",
       "2  ObjectId(\"5ecb9dc250efdb0008054f38\")          5  040234-040603.mp4   \n",
       "3  ObjectId(\"5ecb9dc250efdb0008054f39\")          5  040234-040603.mp4   \n",
       "4  ObjectId(\"5ecb9dc250efdb0008054f3a\")          5  040234-040603.mp4   \n",
       "\n",
       "  class_name  traveled_distance           start_timestamp  \\\n",
       "0   Forklift           9.880006  2020-05-25T09:05:10.000Z   \n",
       "1     Person           6.088650  2020-05-25T09:06:22.000Z   \n",
       "2     Person          18.249779  2020-05-25T09:36:46.000Z   \n",
       "3     Person           8.291737  2020-05-25T09:59:38.000Z   \n",
       "4   Forklift           8.895892  2020-05-25T10:02:06.000Z   \n",
       "\n",
       "              end_timestamp     local_start_timestamp  \n",
       "0  2020-05-25T09:19:54.000Z  2020-05-25T04:05:10.000Z  \n",
       "1  2020-05-25T09:19:14.000Z  2020-05-25T04:06:22.000Z  \n",
       "2  2020-05-25T09:50:58.000Z  2020-05-25T04:36:46.000Z  \n",
       "3  2020-05-25T10:05:42.000Z  2020-05-25T04:59:38.000Z  \n",
       "4  2020-05-25T10:05:22.000Z  2020-05-25T05:02:06.000Z  "
      ]
     },
     "execution_count": 3,
     "metadata": {},
     "output_type": "execute_result"
    }
   ],
   "source": [
    "odometry.head()"
   ]
  },
  {
   "cell_type": "code",
   "execution_count": 4,
   "metadata": {},
   "outputs": [
    {
     "data": {
      "text/html": [
       "<div>\n",
       "<style scoped>\n",
       "    .dataframe tbody tr th:only-of-type {\n",
       "        vertical-align: middle;\n",
       "    }\n",
       "\n",
       "    .dataframe tbody tr th {\n",
       "        vertical-align: top;\n",
       "    }\n",
       "\n",
       "    .dataframe thead th {\n",
       "        text-align: right;\n",
       "    }\n",
       "</style>\n",
       "<table border=\"1\" class=\"dataframe\">\n",
       "  <thead>\n",
       "    <tr style=\"text-align: right;\">\n",
       "      <th></th>\n",
       "      <th>Unnamed: 0</th>\n",
       "      <th>Date</th>\n",
       "      <th>Hour</th>\n",
       "      <th>Min</th>\n",
       "      <th>Event Type</th>\n",
       "      <th>Unnamed: 5</th>\n",
       "    </tr>\n",
       "  </thead>\n",
       "  <tbody>\n",
       "    <tr>\n",
       "      <th>0</th>\n",
       "      <td>NaN</td>\n",
       "      <td>2020-05-24</td>\n",
       "      <td>22.0</td>\n",
       "      <td>28</td>\n",
       "      <td>SocialDistancing</td>\n",
       "      <td>NaN</td>\n",
       "    </tr>\n",
       "    <tr>\n",
       "      <th>1</th>\n",
       "      <td>NaN</td>\n",
       "      <td>2020-05-24</td>\n",
       "      <td>21.0</td>\n",
       "      <td>43</td>\n",
       "      <td>SocialDistancing</td>\n",
       "      <td>NaN</td>\n",
       "    </tr>\n",
       "    <tr>\n",
       "      <th>2</th>\n",
       "      <td>NaN</td>\n",
       "      <td>2020-05-24</td>\n",
       "      <td>20.0</td>\n",
       "      <td>27</td>\n",
       "      <td>SocialDistancing</td>\n",
       "      <td>NaN</td>\n",
       "    </tr>\n",
       "    <tr>\n",
       "      <th>3</th>\n",
       "      <td>NaN</td>\n",
       "      <td>2020-05-24</td>\n",
       "      <td>19.0</td>\n",
       "      <td>9</td>\n",
       "      <td>SocialDistancing</td>\n",
       "      <td>NaN</td>\n",
       "    </tr>\n",
       "    <tr>\n",
       "      <th>4</th>\n",
       "      <td>NaN</td>\n",
       "      <td>2020-05-25</td>\n",
       "      <td>11.0</td>\n",
       "      <td>2</td>\n",
       "      <td>FaceMask</td>\n",
       "      <td>NaN</td>\n",
       "    </tr>\n",
       "  </tbody>\n",
       "</table>\n",
       "</div>"
      ],
      "text/plain": [
       "   Unnamed: 0        Date  Hour  Min        Event Type  Unnamed: 5\n",
       "0         NaN  2020-05-24  22.0   28  SocialDistancing         NaN\n",
       "1         NaN  2020-05-24  21.0   43  SocialDistancing         NaN\n",
       "2         NaN  2020-05-24  20.0   27  SocialDistancing         NaN\n",
       "3         NaN  2020-05-24  19.0    9  SocialDistancing         NaN\n",
       "4         NaN  2020-05-25  11.0    2          FaceMask         NaN"
      ]
     },
     "execution_count": 4,
     "metadata": {},
     "output_type": "execute_result"
    }
   ],
   "source": [
    "events.head()"
   ]
  },
  {
   "cell_type": "markdown",
   "metadata": {},
   "source": [
    "## Exploratory Data Analysis"
   ]
  },
  {
   "cell_type": "markdown",
   "metadata": {},
   "source": [
    "### Data Cleaning"
   ]
  },
  {
   "cell_type": "code",
   "execution_count": 5,
   "metadata": {},
   "outputs": [
    {
     "name": "stdout",
     "output_type": "stream",
     "text": [
      "Any null values in odometry?: False\n",
      "Any null values in events?: True\n"
     ]
    }
   ],
   "source": [
    "# checking for empty or null values\n",
    "print(\"Any null values in odometry?:\", odometry.isnull().values.any())\n",
    "print(\"Any null values in events?:\", events.isnull().values.any())"
   ]
  },
  {
   "cell_type": "code",
   "execution_count": 6,
   "metadata": {},
   "outputs": [
    {
     "name": "stdout",
     "output_type": "stream",
     "text": [
      "Unique event types:  ['Driver entering' 'FaceMask' 'Gloves' 'Handcart Riding' 'Other damage'\n",
      " 'SocialDistancing' 'Speeding' 'Vests']\n",
      "The date column type is:  <class 'str'>\n",
      "Any null values in events?: False\n"
     ]
    }
   ],
   "source": [
    "# removing null columns\n",
    "events = events.drop(['Unnamed: 0', 'Unnamed: 5'], axis=1)\n",
    "print(\"Unique event types: \", np.unique(events['Event Type'].values))\n",
    "print(\"The date column type is: \", type(events['Date'].values[0]))\n",
    "print(\"Any null values in events?:\", events.isnull().values.any())"
   ]
  },
  {
   "cell_type": "code",
   "execution_count": 7,
   "metadata": {},
   "outputs": [
    {
     "name": "stdout",
     "output_type": "stream",
     "text": [
      "The timestamp columns type is:  <class 'str'>\n",
      "The traveled_distance column type is:  <class 'numpy.float64'>\n"
     ]
    }
   ],
   "source": [
    "# checking columns types\n",
    "print(\"The timestamp columns type is: \", type(odometry['start_timestamp'].values[0]))\n",
    "print(\"The traveled_distance column type is: \", type(odometry['traveled_distance'].values[0]))"
   ]
  },
  {
   "cell_type": "code",
   "execution_count": 8,
   "metadata": {
    "scrolled": true
   },
   "outputs": [],
   "source": [
    "# converting timestamp columns from str to datetime\n",
    "odometry['start_timestamp'] = [datetime.strptime(time, \"%Y-%m-%dT%H:%M:%S.%fZ\") for time in odometry['start_timestamp'].values]\n",
    "odometry['end_timestamp'] = [datetime.strptime(time, \"%Y-%m-%dT%H:%M:%S.%fZ\") for time in odometry['end_timestamp'].values]\n",
    "odometry['local_start_timestamp'] = [datetime.strptime(time, \"%Y-%m-%dT%H:%M:%S.%fZ\") for time in odometry['local_start_timestamp'].values]\n",
    "\n",
    "events['Date'] = [datetime.strptime(date, \"%Y-%m-%d\") for date in events['Date'].values]"
   ]
  },
  {
   "cell_type": "code",
   "execution_count": 10,
   "metadata": {},
   "outputs": [],
   "source": [
    "# adding day and hour columns\n",
    "odometry['day'] = odometry['local_start_timestamp'].dt.day\n",
    "\n",
    "events['Day'] = events['Date'].dt.day\n",
    "\n",
    "\n",
    "odometry['start_hour'] = odometry['start_timestamp'].dt.hour"
   ]
  },
  {
   "cell_type": "markdown",
   "metadata": {},
   "source": [
    "## Data Visualization"
   ]
  },
  {
   "cell_type": "markdown",
   "metadata": {},
   "source": [
    "### Distance Traveled"
   ]
  },
  {
   "cell_type": "code",
   "execution_count": 27,
   "metadata": {},
   "outputs": [
    {
     "name": "stderr",
     "output_type": "stream",
     "text": [
      "/Users/brianle/anaconda3/lib/python3.7/site-packages/scipy/stats/stats.py:1713: FutureWarning: Using a non-tuple sequence for multidimensional indexing is deprecated; use `arr[tuple(seq)]` instead of `arr[seq]`. In the future this will be interpreted as an array index, `arr[np.array(seq)]`, which will result either in an error or a different result.\n",
      "  return np.add.reduce(sorted[indexer] * weights, axis=axis) / sumval\n"
     ]
    },
    {
     "name": "stdout",
     "output_type": "stream",
     "text": [
      "Mean of Distance Traveled: 10.59894996265512\n",
      "Standard Deviation of Distance Traveled: 10.818188997711168\n"
     ]
    },
    {
     "data": {
      "image/png": "[encoded data removed]",
      "text/plain": [
       "<Figure size 432x288 with 1 Axes>"
      ]
     },
     "metadata": {},
     "output_type": "display_data"
    }
   ],
   "source": [
    "dist = odometry['traveled_distance'].values\n",
    "\n",
    "sns.set(); np.random.seed(0)\n",
    "ax = sns.distplot(dist)\n",
    "ax.set_title('Distribution of Distance Traveled')\n",
    "ax.set_xlabel(\"Distance (meters)\")\n",
    "ax.set_ylabel('Proportion')\n",
    "\n",
    "print(\"Mean of Distance Traveled:\", np.mean(dist))\n",
    "print(\"Standard Deviation of Distance Traveled:\", np.std(dist))"
   ]
  },
  {
   "cell_type": "code",
   "execution_count": 28,
   "metadata": {},
   "outputs": [
    {
     "data": {
      "text/plain": [
       "Text(0.5, 0, 'Distance (meters)')"
      ]
     },
     "execution_count": 28,
     "metadata": {},
     "output_type": "execute_result"
    },
    {
     "data": {
      "image/png": "[encoded data removed]",
      "text/plain": [
       "<Figure size 432x288 with 1 Axes>"
      ]
     },
     "metadata": {},
     "output_type": "display_data"
    }
   ],
   "source": [
    "ax = sns.boxplot(dist)\n",
    "ax.set_title('Boxplot of Distance Traveled')\n",
    "ax.set_xlabel(\"Distance (meters)\")"
   ]
  },
  {
   "cell_type": "markdown",
   "metadata": {},
   "source": [
    "### Test: Log Transformation"
   ]
  },
  {
   "cell_type": "code",
   "execution_count": 29,
   "metadata": {},
   "outputs": [
    {
     "name": "stderr",
     "output_type": "stream",
     "text": [
      "/Users/brianle/anaconda3/lib/python3.7/site-packages/scipy/stats/stats.py:1713: FutureWarning: Using a non-tuple sequence for multidimensional indexing is deprecated; use `arr[tuple(seq)]` instead of `arr[seq]`. In the future this will be interpreted as an array index, `arr[np.array(seq)]`, which will result either in an error or a different result.\n",
      "  return np.add.reduce(sorted[indexer] * weights, axis=axis) / sumval\n"
     ]
    },
    {
     "name": "stdout",
     "output_type": "stream",
     "text": [
      "Standard Deviation of Log Distance Traveled: 0.9629871196538377\n"
     ]
    },
    {
     "data": {
      "image/png": "[encoded data removed]",
      "text/plain": [
       "<Figure size 432x288 with 1 Axes>"
      ]
     },
     "metadata": {},
     "output_type": "display_data"
    }
   ],
   "source": [
    "dist_log = np.log(dist)\n",
    "\n",
    "ax = sns.distplot(dist_log)\n",
    "ax.set_title('Log Distribution of Distance Traveled')\n",
    "ax.set_xlabel(\"Log Distance\")\n",
    "ax.set_ylabel('Proportion')\n",
    "\n",
    "print(\"Standard Deviation of Log Distance Traveled:\", np.std(dist_log))"
   ]
  },
  {
   "cell_type": "markdown",
   "metadata": {},
   "source": [
    "### Test: Removing Outliers"
   ]
  },
  {
   "cell_type": "code",
   "execution_count": 30,
   "metadata": {},
   "outputs": [
    {
     "name": "stdout",
     "output_type": "stream",
     "text": [
      "Number of trips: 40559\n",
      "Number of trips after removing outliers: 39801\n",
      "Proportion of trips left: 0.981311176311053\n"
     ]
    },
    {
     "data": {
      "text/plain": [
       "Text(0, 0.5, 'Proportion')"
      ]
     },
     "execution_count": 30,
     "metadata": {},
     "output_type": "execute_result"
    },
    {
     "data": {
      "image/png": "[encoded data removed]",
      "text/plain": [
       "<Figure size 432x288 with 1 Axes>"
      ]
     },
     "metadata": {},
     "output_type": "display_data"
    }
   ],
   "source": [
    "dist_df = odometry['traveled_distance']\n",
    "print(\"Number of trips:\", len(dist_df))\n",
    "dist_rmv_outliers = dist_df[(stats.zscore(dist_df)) < 3]\n",
    "print(\"Number of trips after removing outliers:\", len(dist_rmv_outliers))\n",
    "print(\"Proportion of trips left:\", len(dist_rmv_outliers) / len(dist_df))\n",
    "\n",
    "ax = sns.distplot(dist_rmv_outliers.values)\n",
    "ax.set_title('Distribution of Distance Traveled After Removing Outliers')\n",
    "ax.set_xlabel(\"Distance (meters)\")\n",
    "ax.set_ylabel('Proportion')"
   ]
  },
  {
   "cell_type": "code",
   "execution_count": 16,
   "metadata": {
    "scrolled": true
   },
   "outputs": [
    {
     "data": {
      "text/plain": [
       "Text(0.5, 1.0, 'Bar Plot of Mean Distance Traveled by Day')"
      ]
     },
     "execution_count": 16,
     "metadata": {},
     "output_type": "execute_result"
    },
    {
     "data": {
      "image/png": "[encoded data removed]",
      "text/plain": [
       "<Figure size 432x288 with 1 Axes>"
      ]
     },
     "metadata": {},
     "output_type": "display_data"
    }
   ],
   "source": [
    "odo_by_day = odometry.groupby('day').agg(np.mean)\n",
    "plt.bar(odo_by_day.index, odo_by_day.traveled_distance)\n",
    "plt.xlabel('Day of the Month')\n",
    "plt.ylabel('Distance')\n",
    "plt.title('Bar Plot of Mean Distance Traveled by Day')"
   ]
  },
  {
   "cell_type": "code",
   "execution_count": 17,
   "metadata": {},
   "outputs": [
    {
     "data": {
      "text/plain": [
       "Text(0.5, 1.0, 'Bar Plot of Mean Distance Traveled by Start Hour of the Day')"
      ]
     },
     "execution_count": 17,
     "metadata": {},
     "output_type": "execute_result"
    },
    {
     "data": {
      "image/png": "[encoded data removed]",
      "text/plain": [
       "<Figure size 432x288 with 1 Axes>"
      ]
     },
     "metadata": {},
     "output_type": "display_data"
    }
   ],
   "source": [
    "odo_by_hour = odometry.groupby('start_hour').agg(np.mean)\n",
    "plt.bar(odo_by_hour.index, odo_by_hour.traveled_distance)\n",
    "plt.xlabel('Hour of the Day')\n",
    "plt.ylabel('Distance')\n",
    "plt.title('Bar Plot of Mean Distance Traveled by Start Hour of the Day')"
   ]
  },
  {
   "cell_type": "markdown",
   "metadata": {},
   "source": [
    "### Distance Traveled Feature Analysis"
   ]
  },
  {
   "cell_type": "markdown",
   "metadata": {},
   "source": [
    "In the first distribution plot, we find the data to be significantly right-skewed. Additionally, the boxplot shows a large number of outliers. In a regression model, skewed-data and outliers will have an adverse effect on model performance. To increase model performance, we must reduce the effect of outliers and skewness. Two ways of doing so is to either log transform the values or remove the outliers. After transforming the data or removing outliers, we find the distribution to be much more suitable for our model because there is less variablity. One thing to note is that removing outliers is not always the best method because we lose data, but in our case, we only lost about 2% of our data, so it is a viable method. "
   ]
  },
  {
   "cell_type": "markdown",
   "metadata": {},
   "source": [
    "Moving forward, we will be removing outliers before inputting the data in our model."
   ]
  },
  {
   "cell_type": "markdown",
   "metadata": {},
   "source": [
    "Looking at the bar plot of mean distance traveled by day, we see that the data is missing values for the 23rd and 24th day. This could be due to a lack of data collection during these days. We will be filling these days with the average distance traveled among all the other mean distance traveled. In terms of the granularity of operation level, we will be measuring risk at the daily level because there is less variability than at the hourly level, which will ultimately provide better accuracy in our model. "
   ]
  },
  {
   "cell_type": "markdown",
   "metadata": {},
   "source": [
    "#### Data Manipulation"
   ]
  },
  {
   "cell_type": "code",
   "execution_count": 31,
   "metadata": {},
   "outputs": [
    {
     "data": {
      "text/html": [
       "<div>\n",
       "<style scoped>\n",
       "    .dataframe tbody tr th:only-of-type {\n",
       "        vertical-align: middle;\n",
       "    }\n",
       "\n",
       "    .dataframe tbody tr th {\n",
       "        vertical-align: top;\n",
       "    }\n",
       "\n",
       "    .dataframe thead th {\n",
       "        text-align: right;\n",
       "    }\n",
       "</style>\n",
       "<table border=\"1\" class=\"dataframe\">\n",
       "  <thead>\n",
       "    <tr style=\"text-align: right;\">\n",
       "      <th></th>\n",
       "      <th>Day</th>\n",
       "      <th>mean_traveled_dist</th>\n",
       "    </tr>\n",
       "  </thead>\n",
       "  <tbody>\n",
       "    <tr>\n",
       "      <th>0</th>\n",
       "      <td>1</td>\n",
       "      <td>10.435521</td>\n",
       "    </tr>\n",
       "    <tr>\n",
       "      <th>1</th>\n",
       "      <td>2</td>\n",
       "      <td>12.129680</td>\n",
       "    </tr>\n",
       "    <tr>\n",
       "      <th>2</th>\n",
       "      <td>3</td>\n",
       "      <td>9.470548</td>\n",
       "    </tr>\n",
       "    <tr>\n",
       "      <th>3</th>\n",
       "      <td>4</td>\n",
       "      <td>9.706520</td>\n",
       "    </tr>\n",
       "    <tr>\n",
       "      <th>4</th>\n",
       "      <td>5</td>\n",
       "      <td>10.842583</td>\n",
       "    </tr>\n",
       "  </tbody>\n",
       "</table>\n",
       "</div>"
      ],
      "text/plain": [
       "   Day  mean_traveled_dist\n",
       "0    1           10.435521\n",
       "1    2           12.129680\n",
       "2    3            9.470548\n",
       "3    4            9.706520\n",
       "4    5           10.842583"
      ]
     },
     "execution_count": 31,
     "metadata": {},
     "output_type": "execute_result"
    }
   ],
   "source": [
    "odo_df = odometry.loc[:, ['traveled_distance', 'day']]\n",
    "\n",
    "# removing outliers\n",
    "odo_df = odo_df[(stats.zscore(odo_df['traveled_distance'])) < 3]\n",
    "\n",
    "# grouping by day and aggregating by the mean\n",
    "odo_by_day = odo_df.groupby('day').agg(np.mean)\n",
    "\n",
    "# filling in missing values\n",
    "mean_dist_trav = np.mean(odo_by_day['traveled_distance'])\n",
    "odo_by_day['day'] = odo_by_day.index\n",
    "days = np.append(odo_by_day['day'].values, [[23, 24]])\n",
    "dists = np.append(odo_by_day['traveled_distance'], [[mean_dist_trav, mean_dist_trav]])\n",
    "new_odo_day = pd.DataFrame({'Day' : days, 'mean_traveled_dist' : dists})\n",
    "new_odo_day.head()"
   ]
  },
  {
   "cell_type": "code",
   "execution_count": 19,
   "metadata": {},
   "outputs": [
    {
     "data": {
      "text/html": [
       "<div>\n",
       "<style scoped>\n",
       "    .dataframe tbody tr th:only-of-type {\n",
       "        vertical-align: middle;\n",
       "    }\n",
       "\n",
       "    .dataframe tbody tr th {\n",
       "        vertical-align: top;\n",
       "    }\n",
       "\n",
       "    .dataframe thead th {\n",
       "        text-align: right;\n",
       "    }\n",
       "</style>\n",
       "<table border=\"1\" class=\"dataframe\">\n",
       "  <thead>\n",
       "    <tr style=\"text-align: right;\">\n",
       "      <th></th>\n",
       "      <th>Day</th>\n",
       "      <th>num_outcomes</th>\n",
       "    </tr>\n",
       "  </thead>\n",
       "  <tbody>\n",
       "    <tr>\n",
       "      <th>0</th>\n",
       "      <td>1</td>\n",
       "      <td>20</td>\n",
       "    </tr>\n",
       "    <tr>\n",
       "      <th>1</th>\n",
       "      <td>2</td>\n",
       "      <td>19</td>\n",
       "    </tr>\n",
       "    <tr>\n",
       "      <th>2</th>\n",
       "      <td>3</td>\n",
       "      <td>19</td>\n",
       "    </tr>\n",
       "    <tr>\n",
       "      <th>3</th>\n",
       "      <td>4</td>\n",
       "      <td>31</td>\n",
       "    </tr>\n",
       "    <tr>\n",
       "      <th>4</th>\n",
       "      <td>5</td>\n",
       "      <td>22</td>\n",
       "    </tr>\n",
       "  </tbody>\n",
       "</table>\n",
       "</div>"
      ],
      "text/plain": [
       "   Day  num_outcomes\n",
       "0    1            20\n",
       "1    2            19\n",
       "2    3            19\n",
       "3    4            31\n",
       "4    5            22"
      ]
     },
     "execution_count": 19,
     "metadata": {},
     "output_type": "execute_result"
    }
   ],
   "source": [
    "# grouping events by day, aggregating into a list and then summing up the number of safety outcomes for each day\n",
    "grouped_events = events.groupby('Day').agg(list)\n",
    "grouped_events['num_outcomes'] = [len(x) for x in grouped_events['Event Type']]\n",
    "grouped_events.reset_index(inplace = True)\n",
    "grouped_events = grouped_events.loc[:, ['Day', 'num_outcomes']]\n",
    "grouped_events.head()"
   ]
  },
  {
   "cell_type": "markdown",
   "metadata": {},
   "source": [
    "### Merging"
   ]
  },
  {
   "cell_type": "code",
   "execution_count": 20,
   "metadata": {},
   "outputs": [
    {
     "data": {
      "text/html": [
       "<div>\n",
       "<style scoped>\n",
       "    .dataframe tbody tr th:only-of-type {\n",
       "        vertical-align: middle;\n",
       "    }\n",
       "\n",
       "    .dataframe tbody tr th {\n",
       "        vertical-align: top;\n",
       "    }\n",
       "\n",
       "    .dataframe thead th {\n",
       "        text-align: right;\n",
       "    }\n",
       "</style>\n",
       "<table border=\"1\" class=\"dataframe\">\n",
       "  <thead>\n",
       "    <tr style=\"text-align: right;\">\n",
       "      <th></th>\n",
       "      <th>Day</th>\n",
       "      <th>mean_traveled_dist</th>\n",
       "      <th>num_outcomes</th>\n",
       "    </tr>\n",
       "  </thead>\n",
       "  <tbody>\n",
       "    <tr>\n",
       "      <th>0</th>\n",
       "      <td>1</td>\n",
       "      <td>10.435521</td>\n",
       "      <td>20</td>\n",
       "    </tr>\n",
       "    <tr>\n",
       "      <th>1</th>\n",
       "      <td>2</td>\n",
       "      <td>12.129680</td>\n",
       "      <td>19</td>\n",
       "    </tr>\n",
       "    <tr>\n",
       "      <th>2</th>\n",
       "      <td>3</td>\n",
       "      <td>9.470548</td>\n",
       "      <td>19</td>\n",
       "    </tr>\n",
       "    <tr>\n",
       "      <th>3</th>\n",
       "      <td>4</td>\n",
       "      <td>9.706520</td>\n",
       "      <td>31</td>\n",
       "    </tr>\n",
       "    <tr>\n",
       "      <th>4</th>\n",
       "      <td>5</td>\n",
       "      <td>10.842583</td>\n",
       "      <td>22</td>\n",
       "    </tr>\n",
       "  </tbody>\n",
       "</table>\n",
       "</div>"
      ],
      "text/plain": [
       "   Day  mean_traveled_dist  num_outcomes\n",
       "0    1           10.435521            20\n",
       "1    2           12.129680            19\n",
       "2    3            9.470548            19\n",
       "3    4            9.706520            31\n",
       "4    5           10.842583            22"
      ]
     },
     "execution_count": 20,
     "metadata": {},
     "output_type": "execute_result"
    }
   ],
   "source": [
    "# merge on day of the month\n",
    "merged_odo_events = new_odo_day.merge(grouped_events, left_on = 'Day', right_on = 'Day')\n",
    "merged_odo_events.head()"
   ]
  },
  {
   "cell_type": "markdown",
   "metadata": {},
   "source": [
    "### Modeling"
   ]
  },
  {
   "cell_type": "markdown",
   "metadata": {},
   "source": [
    "We will be using a linear regression model because distance traveled is our dependent variable and the number of outcomes is our independent variable."
   ]
  },
  {
   "cell_type": "code",
   "execution_count": 33,
   "metadata": {},
   "outputs": [
    {
     "name": "stdout",
     "output_type": "stream",
     "text": [
      "Intercept value: 15.946642721115522\n",
      "Slope value: 0.03450682211795225\n"
     ]
    },
    {
     "data": {
      "text/html": [
       "<div>\n",
       "<style scoped>\n",
       "    .dataframe tbody tr th:only-of-type {\n",
       "        vertical-align: middle;\n",
       "    }\n",
       "\n",
       "    .dataframe tbody tr th {\n",
       "        vertical-align: top;\n",
       "    }\n",
       "\n",
       "    .dataframe thead th {\n",
       "        text-align: right;\n",
       "    }\n",
       "</style>\n",
       "<table border=\"1\" class=\"dataframe\">\n",
       "  <thead>\n",
       "    <tr style=\"text-align: right;\">\n",
       "      <th></th>\n",
       "      <th>Actual</th>\n",
       "      <th>Predicted</th>\n",
       "    </tr>\n",
       "  </thead>\n",
       "  <tbody>\n",
       "    <tr>\n",
       "      <th>0</th>\n",
       "      <td>19</td>\n",
       "      <td>16.273441</td>\n",
       "    </tr>\n",
       "    <tr>\n",
       "      <th>1</th>\n",
       "      <td>3</td>\n",
       "      <td>16.294314</td>\n",
       "    </tr>\n",
       "    <tr>\n",
       "      <th>2</th>\n",
       "      <td>13</td>\n",
       "      <td>16.384592</td>\n",
       "    </tr>\n",
       "    <tr>\n",
       "      <th>3</th>\n",
       "      <td>22</td>\n",
       "      <td>16.305925</td>\n",
       "    </tr>\n",
       "    <tr>\n",
       "      <th>4</th>\n",
       "      <td>14</td>\n",
       "      <td>16.275177</td>\n",
       "    </tr>\n",
       "  </tbody>\n",
       "</table>\n",
       "</div>"
      ],
      "text/plain": [
       "   Actual  Predicted\n",
       "0      19  16.273441\n",
       "1       3  16.294314\n",
       "2      13  16.384592\n",
       "3      22  16.305925\n",
       "4      14  16.275177"
      ]
     },
     "execution_count": 33,
     "metadata": {},
     "output_type": "execute_result"
    }
   ],
   "source": [
    "X = merged_odo_events['mean_traveled_dist'].values.reshape(-1,1)\n",
    "y = merged_odo_events['num_outcomes'].values.reshape(-1,1)\n",
    "\n",
    "# splitting train and test set 80/20\n",
    "X_train, X_test, y_train, y_test = train_test_split(X, y, test_size = .20, random_state = 0)\n",
    "\n",
    "regressor = LinearRegression().fit(X_train, y_train)\n",
    "print('Intercept value:', regressor.intercept_[0])\n",
    "print('Slope value:', regressor.coef_[0][0])\n",
    "y_pred = regressor.predict(X_test)\n",
    "\n",
    "model_df = pd.DataFrame({'Actual': y_test.flatten(), 'Predicted': y_pred.flatten()})\n",
    "model_df.head()"
   ]
  },
  {
   "cell_type": "code",
   "execution_count": 34,
   "metadata": {},
   "outputs": [
    {
     "data": {
      "image/png": "[encoded data removed]",
      "text/plain": [
       "<Figure size 432x288 with 1 Axes>"
      ]
     },
     "metadata": {},
     "output_type": "display_data"
    }
   ],
   "source": [
    "plt.scatter(X_test, y_test, color='gray')\n",
    "plt.plot(X_test, y_pred, color='red', linewidth=2)\n",
    "plt.xlabel('Distance')\n",
    "plt.ylabel('Num outcomes')\n",
    "plt.title('Scatterplot of Test Set Values with Regression Line Overlayed')\n",
    "plt.show()"
   ]
  },
  {
   "cell_type": "code",
   "execution_count": 23,
   "metadata": {},
   "outputs": [
    {
     "name": "stdout",
     "output_type": "stream",
     "text": [
      "Proportion of Variability in Y explained by X: -0.05526948130299214\n",
      "Mean Absolute Error: 4.207557743558532\n",
      "Mean Squared Error: 33.76862340169575\n",
      "Root Mean Squared Error: 5.811077645471255\n"
     ]
    }
   ],
   "source": [
    "print('Proportion of Variability in Y explained by X:', regressor.score(X_test, y_test))\n",
    "print('Mean Absolute Error:', metrics.mean_absolute_error(y_test, y_pred))  \n",
    "print('Mean Squared Error:', metrics.mean_squared_error(y_test, y_pred))  \n",
    "print('Root Mean Squared Error:', np.sqrt(metrics.mean_squared_error(y_test, y_pred)))"
   ]
  },
  {
   "cell_type": "markdown",
   "metadata": {},
   "source": [
    "# Conclusion"
   ]
  },
  {
   "cell_type": "markdown",
   "metadata": {},
   "source": [
    "Based off the model results, we can conclude that the distance traveled does not perform well in our linear model to predict risk at the daily operational level, which is defined as the number of safety outcomes that occur in a day. The slope of the model and correlation coefficient is close to 0, meaning distance traveled has little to no effect on the number of safety outcomes. The MSE value of 33 shows that there is large variability within the residuals and that the model does not predict safety outcomes accurately, even after removing outliers from the input data. "
   ]
  },
  {
   "cell_type": "markdown",
   "metadata": {},
   "source": [
    "# Challenges "
   ]
  },
  {
   "cell_type": "markdown",
   "metadata": {},
   "source": [
    "The granularity of operation level may be difficult to model due to lack of data points after aggregating. Using day of the month only provides at most 31 data points. If we were to use hourly granularity, there would be at most 24 data points assuming that warehouses operate up to 24 hours a day. I also attempted to groupby every single date in our dataset, but model performance did not improve."
   ]
  },
  {
   "cell_type": "markdown",
   "metadata": {},
   "source": [
    "# Next Steps"
   ]
  },
  {
   "cell_type": "markdown",
   "metadata": {},
   "source": [
    "To better predict risk, more data must be collected with different features that could serve as model inputs. We could also feature engineer new features and/or redefine our label and collect data accordingly."
   ]
  },
  {
   "cell_type": "code",
   "execution_count": null,
   "metadata": {},
   "outputs": [],
   "source": []
  }
 ],
 "metadata": {
  "kernelspec": {
   "display_name": "Python 3",
   "language": "python",
   "name": "python3"
  },
  "language_info": {
   "codemirror_mode": {
    "name": "ipython",
    "version": 3
   },
   "file_extension": ".py",
   "mimetype": "text/x-python",
   "name": "python",
   "nbconvert_exporter": "python",
   "pygments_lexer": "ipython3",
   "version": "3.7.3"
  }
 },
 "nbformat": 4,
 "nbformat_minor": 2
}
